{
 "cells": [
  {
   "cell_type": "code",
   "execution_count": 1,
   "metadata": {
    "colab": {
     "base_uri": "https://localhost:8080/"
    },
    "id": "mh-VsCmnsKnu",
    "outputId": "9231b481-5126-4d18-b6b7-745d01021b0e"
   },
   "outputs": [],
   "source": [
    "import os\n",
    "import pandas as pd\n",
    "import matplotlib.pyplot as plt"
   ]
  },
  {
   "cell_type": "code",
   "execution_count": 2,
   "metadata": {
    "id": "lmUvnZUvv97F"
   },
   "outputs": [],
   "source": [
    "os.chdir(\"D:\\Akhilesh_PHD\\Brain\\BraTS_2020_New1\\h5_dataset_BraTs2020\")"
   ]
  },
  {
   "cell_type": "code",
   "execution_count": 3,
   "metadata": {
    "id": "fB0EvhEJwuU9"
   },
   "outputs": [],
   "source": [
    "LN_Norm = pd.read_csv('training_log_1.csv')"
   ]
  },
  {
   "cell_type": "code",
   "execution_count": 4,
   "metadata": {
    "colab": {
     "base_uri": "https://localhost:8080/",
     "height": 824
    },
    "id": "dVwTXs862VCf",
    "outputId": "3d5e6ce3-a16e-4c9e-9cd8-63febcfe4efc"
   },
   "outputs": [
    {
     "data": {
      "text/html": [
       "<div>\n",
       "<style scoped>\n",
       "    .dataframe tbody tr th:only-of-type {\n",
       "        vertical-align: middle;\n",
       "    }\n",
       "\n",
       "    .dataframe tbody tr th {\n",
       "        vertical-align: top;\n",
       "    }\n",
       "\n",
       "    .dataframe thead th {\n",
       "        text-align: right;\n",
       "    }\n",
       "</style>\n",
       "<table border=\"1\" class=\"dataframe\">\n",
       "  <thead>\n",
       "    <tr style=\"text-align: right;\">\n",
       "      <th></th>\n",
       "      <th>epoch</th>\n",
       "      <th>dice_coefficient</th>\n",
       "      <th>loss</th>\n",
       "      <th>lr</th>\n",
       "      <th>val_dice_coefficient</th>\n",
       "      <th>val_loss</th>\n",
       "    </tr>\n",
       "  </thead>\n",
       "  <tbody>\n",
       "    <tr>\n",
       "      <th>0</th>\n",
       "      <td>0</td>\n",
       "      <td>0.230525</td>\n",
       "      <td>0.551380</td>\n",
       "      <td>1.000000e-04</td>\n",
       "      <td>0.352081</td>\n",
       "      <td>0.389822</td>\n",
       "    </tr>\n",
       "    <tr>\n",
       "      <th>1</th>\n",
       "      <td>1</td>\n",
       "      <td>0.427322</td>\n",
       "      <td>0.318114</td>\n",
       "      <td>1.000000e-04</td>\n",
       "      <td>0.511681</td>\n",
       "      <td>0.241295</td>\n",
       "    </tr>\n",
       "    <tr>\n",
       "      <th>2</th>\n",
       "      <td>2</td>\n",
       "      <td>0.535225</td>\n",
       "      <td>0.245073</td>\n",
       "      <td>1.000000e-04</td>\n",
       "      <td>0.580468</td>\n",
       "      <td>0.212447</td>\n",
       "    </tr>\n",
       "    <tr>\n",
       "      <th>3</th>\n",
       "      <td>3</td>\n",
       "      <td>0.590911</td>\n",
       "      <td>0.220238</td>\n",
       "      <td>1.000000e-04</td>\n",
       "      <td>0.614098</td>\n",
       "      <td>0.202990</td>\n",
       "    </tr>\n",
       "    <tr>\n",
       "      <th>4</th>\n",
       "      <td>4</td>\n",
       "      <td>0.619643</td>\n",
       "      <td>0.211190</td>\n",
       "      <td>1.000000e-04</td>\n",
       "      <td>0.648503</td>\n",
       "      <td>0.190940</td>\n",
       "    </tr>\n",
       "    <tr>\n",
       "      <th>...</th>\n",
       "      <td>...</td>\n",
       "      <td>...</td>\n",
       "      <td>...</td>\n",
       "      <td>...</td>\n",
       "      <td>...</td>\n",
       "      <td>...</td>\n",
       "    </tr>\n",
       "    <tr>\n",
       "      <th>95</th>\n",
       "      <td>95</td>\n",
       "      <td>0.847813</td>\n",
       "      <td>0.080497</td>\n",
       "      <td>1.000000e-07</td>\n",
       "      <td>0.774246</td>\n",
       "      <td>0.156218</td>\n",
       "    </tr>\n",
       "    <tr>\n",
       "      <th>96</th>\n",
       "      <td>96</td>\n",
       "      <td>0.847815</td>\n",
       "      <td>0.080461</td>\n",
       "      <td>1.000000e-07</td>\n",
       "      <td>0.774233</td>\n",
       "      <td>0.156326</td>\n",
       "    </tr>\n",
       "    <tr>\n",
       "      <th>97</th>\n",
       "      <td>97</td>\n",
       "      <td>0.847844</td>\n",
       "      <td>0.080516</td>\n",
       "      <td>1.000000e-07</td>\n",
       "      <td>0.774299</td>\n",
       "      <td>0.156233</td>\n",
       "    </tr>\n",
       "    <tr>\n",
       "      <th>98</th>\n",
       "      <td>98</td>\n",
       "      <td>0.847847</td>\n",
       "      <td>0.080512</td>\n",
       "      <td>1.000000e-07</td>\n",
       "      <td>0.774303</td>\n",
       "      <td>0.156268</td>\n",
       "    </tr>\n",
       "    <tr>\n",
       "      <th>99</th>\n",
       "      <td>99</td>\n",
       "      <td>0.847972</td>\n",
       "      <td>0.080416</td>\n",
       "      <td>1.000000e-07</td>\n",
       "      <td>0.774287</td>\n",
       "      <td>0.156248</td>\n",
       "    </tr>\n",
       "  </tbody>\n",
       "</table>\n",
       "<p>100 rows × 6 columns</p>\n",
       "</div>"
      ],
      "text/plain": [
       "    epoch  dice_coefficient      loss            lr  val_dice_coefficient  \\\n",
       "0       0          0.230525  0.551380  1.000000e-04              0.352081   \n",
       "1       1          0.427322  0.318114  1.000000e-04              0.511681   \n",
       "2       2          0.535225  0.245073  1.000000e-04              0.580468   \n",
       "3       3          0.590911  0.220238  1.000000e-04              0.614098   \n",
       "4       4          0.619643  0.211190  1.000000e-04              0.648503   \n",
       "..    ...               ...       ...           ...                   ...   \n",
       "95     95          0.847813  0.080497  1.000000e-07              0.774246   \n",
       "96     96          0.847815  0.080461  1.000000e-07              0.774233   \n",
       "97     97          0.847844  0.080516  1.000000e-07              0.774299   \n",
       "98     98          0.847847  0.080512  1.000000e-07              0.774303   \n",
       "99     99          0.847972  0.080416  1.000000e-07              0.774287   \n",
       "\n",
       "    val_loss  \n",
       "0   0.389822  \n",
       "1   0.241295  \n",
       "2   0.212447  \n",
       "3   0.202990  \n",
       "4   0.190940  \n",
       "..       ...  \n",
       "95  0.156218  \n",
       "96  0.156326  \n",
       "97  0.156233  \n",
       "98  0.156268  \n",
       "99  0.156248  \n",
       "\n",
       "[100 rows x 6 columns]"
      ]
     },
     "execution_count": 4,
     "metadata": {},
     "output_type": "execute_result"
    }
   ],
   "source": [
    "LN_Norm"
   ]
  },
  {
   "cell_type": "code",
   "execution_count": 6,
   "metadata": {
    "id": "STr2xJtCOeG3"
   },
   "outputs": [],
   "source": [
    "#os.chdir(\"D:\\Akhilesh_PHD\\Thesis Experiment\\BraTS\\h5_dataset_stand_WOLN\")"
   ]
  },
  {
   "cell_type": "code",
   "execution_count": 7,
   "metadata": {
    "id": "cmy_QwImPIV3"
   },
   "outputs": [],
   "source": [
    "#WOLN_Norm = pd.read_csv('training_log_1.csv')"
   ]
  },
  {
   "cell_type": "code",
   "execution_count": 5,
   "metadata": {
    "colab": {
     "base_uri": "https://localhost:8080/",
     "height": 824
    },
    "id": "6z8bYr5zPQvh",
    "outputId": "8e202139-c6e5-430c-caf7-73f5d56aa7ed"
   },
   "outputs": [],
   "source": [
    "#WOLN_Norm"
   ]
  },
  {
   "cell_type": "code",
   "execution_count": 6,
   "metadata": {
    "colab": {
     "base_uri": "https://localhost:8080/",
     "height": 334
    },
    "id": "Si5Hzs5G2Zin",
    "outputId": "e35803bd-f9e0-4189-b47d-425922c06b55"
   },
   "outputs": [
    {
     "data": {
      "image/png": "[encoded data removed]",
      "text/plain": [
       "<Figure size 720x360 with 1 Axes>"
      ]
     },
     "metadata": {
      "needs_background": "light"
     },
     "output_type": "display_data"
    }
   ],
   "source": [
    "# \"Train Accuracy\"\n",
    "fig = plt.figure(figsize=(10,5))\n",
    "plt.ylim(0,1)\n",
    "plt.plot(LN_Norm['dice_coefficient'])\n",
    "plt.plot(LN_Norm['val_dice_coefficient'])\n",
    "plt.ylabel('LN_Dice Coefficient')\n",
    "plt.xlabel('Epochs')\n",
    "plt.legend(['Tarin','Val'], loc='best')\n",
    "plt.show()"
   ]
  },
  {
   "cell_type": "code",
   "execution_count": 8,
   "metadata": {
    "colab": {
     "base_uri": "https://localhost:8080/",
     "height": 334
    },
    "id": "bMDlSAgHPOSS",
    "outputId": "4e889e86-cf10-4540-a5fb-79cc2c07c05f"
   },
   "outputs": [],
   "source": [
    "# \"Test Accuracy\"\n",
    "#fig = plt.figure(figsize=(10,5))\n",
    "#plt.ylim(0,1)\n",
    "#plt.plot(WOLN_Norm['dice_coefficient'])\n",
    "#plt.plot(WOLN_Norm['val_dice_coefficient'])\n",
    "##plt.plot(WOLN_Norm['val_dice_coefficient'])\n",
    "#plt.ylabel('W/o_LN_Dice Coefficient')\n",
    "#plt.xlabel('Epochs')\n",
    "#plt.legend(['Train', 'Val'], loc='best')\n",
    "#plt.show()"
   ]
  },
  {
   "cell_type": "code",
   "execution_count": 9,
   "metadata": {
    "colab": {
     "base_uri": "https://localhost:8080/",
     "height": 334
    },
    "id": "ceq6KjBXWlpq",
    "outputId": "4e70d10e-3873-431a-9216-563c7f7d3354"
   },
   "outputs": [
    {
     "data": {
      "image/png": "[encoded data removed]",
      "text/plain": [
       "<Figure size 720x360 with 1 Axes>"
      ]
     },
     "metadata": {
      "needs_background": "light"
     },
     "output_type": "display_data"
    }
   ],
   "source": [
    "# \"Train Loss\"\n",
    "fig = plt.figure(figsize=(10,5))\n",
    "plt.ylim(0,1)\n",
    "plt.plot(LN_Norm['loss'])\n",
    "plt.plot(LN_Norm['val_loss'])\n",
    "plt.ylabel('LN_Loss')\n",
    "plt.xlabel('Epochs')\n",
    "plt.legend(['Train', 'Val'], loc='best')\n",
    "plt.show()"
   ]
  },
  {
   "cell_type": "code",
   "execution_count": 13,
   "metadata": {
    "colab": {
     "base_uri": "https://localhost:8080/",
     "height": 334
    },
    "id": "6IvP8MA2Wl7g",
    "outputId": "c540ccbf-d59a-4585-f55f-2eed0cf24492"
   },
   "outputs": [],
   "source": [
    "# \"Test Loss\"\n",
    "#fig = plt.figure(figsize=(10,5))\n",
    "#plt.ylim(0,1)\n",
    "#plt.plot(WOLN_Norm['loss'])\n",
    "#plt.plot(WOLN_Norm['val_loss'])\n",
    "#plt.ylabel('W/o_LN_Loss')\n",
    "#plt.xlabel('Epochs')\n",
    "#plt.legend(['Train', 'Val'], loc='best')\n",
    "#plt.show()\n",
    "\n"
   ]
  },
  {
   "cell_type": "code",
   "execution_count": 26,
   "metadata": {
    "id": "lceLk_8A3RBc"
   },
   "outputs": [],
   "source": [
    "os.chdir(\"D:\\Akhilesh_PHD\\Thesis Experiment\\BraTS\\h5_dataset_stand_LN_25\")"
   ]
  },
  {
   "cell_type": "code",
   "execution_count": 27,
   "metadata": {},
   "outputs": [],
   "source": [
    "LN_Norm_30 = pd.read_csv('training_log_1.csv')"
   ]
  },
  {
   "cell_type": "code",
   "execution_count": 28,
   "metadata": {},
   "outputs": [
    {
     "data": {
      "text/html": [
       "<div>\n",
       "<style scoped>\n",
       "    .dataframe tbody tr th:only-of-type {\n",
       "        vertical-align: middle;\n",
       "    }\n",
       "\n",
       "    .dataframe tbody tr th {\n",
       "        vertical-align: top;\n",
       "    }\n",
       "\n",
       "    .dataframe thead th {\n",
       "        text-align: right;\n",
       "    }\n",
       "</style>\n",
       "<table border=\"1\" class=\"dataframe\">\n",
       "  <thead>\n",
       "    <tr style=\"text-align: right;\">\n",
       "      <th></th>\n",
       "      <th>epoch</th>\n",
       "      <th>dice_coefficient</th>\n",
       "      <th>loss</th>\n",
       "      <th>lr</th>\n",
       "      <th>val_dice_coefficient</th>\n",
       "      <th>val_loss</th>\n",
       "    </tr>\n",
       "  </thead>\n",
       "  <tbody>\n",
       "    <tr>\n",
       "      <th>0</th>\n",
       "      <td>0</td>\n",
       "      <td>0.192408</td>\n",
       "      <td>0.613403</td>\n",
       "      <td>0.000100</td>\n",
       "      <td>0.318959</td>\n",
       "      <td>0.408266</td>\n",
       "    </tr>\n",
       "    <tr>\n",
       "      <th>1</th>\n",
       "      <td>1</td>\n",
       "      <td>0.371622</td>\n",
       "      <td>0.340637</td>\n",
       "      <td>0.000100</td>\n",
       "      <td>0.467380</td>\n",
       "      <td>0.290354</td>\n",
       "    </tr>\n",
       "    <tr>\n",
       "      <th>2</th>\n",
       "      <td>2</td>\n",
       "      <td>0.494567</td>\n",
       "      <td>0.255626</td>\n",
       "      <td>0.000100</td>\n",
       "      <td>0.534678</td>\n",
       "      <td>0.248084</td>\n",
       "    </tr>\n",
       "    <tr>\n",
       "      <th>3</th>\n",
       "      <td>3</td>\n",
       "      <td>0.550926</td>\n",
       "      <td>0.232308</td>\n",
       "      <td>0.000100</td>\n",
       "      <td>0.600751</td>\n",
       "      <td>0.198834</td>\n",
       "    </tr>\n",
       "    <tr>\n",
       "      <th>4</th>\n",
       "      <td>4</td>\n",
       "      <td>0.588279</td>\n",
       "      <td>0.217778</td>\n",
       "      <td>0.000100</td>\n",
       "      <td>0.583138</td>\n",
       "      <td>0.226542</td>\n",
       "    </tr>\n",
       "    <tr>\n",
       "      <th>5</th>\n",
       "      <td>5</td>\n",
       "      <td>0.615223</td>\n",
       "      <td>0.205359</td>\n",
       "      <td>0.000100</td>\n",
       "      <td>0.661637</td>\n",
       "      <td>0.169609</td>\n",
       "    </tr>\n",
       "    <tr>\n",
       "      <th>6</th>\n",
       "      <td>6</td>\n",
       "      <td>0.642385</td>\n",
       "      <td>0.191862</td>\n",
       "      <td>0.000100</td>\n",
       "      <td>0.672213</td>\n",
       "      <td>0.176934</td>\n",
       "    </tr>\n",
       "    <tr>\n",
       "      <th>7</th>\n",
       "      <td>7</td>\n",
       "      <td>0.660951</td>\n",
       "      <td>0.184149</td>\n",
       "      <td>0.000100</td>\n",
       "      <td>0.666244</td>\n",
       "      <td>0.179794</td>\n",
       "    </tr>\n",
       "    <tr>\n",
       "      <th>8</th>\n",
       "      <td>8</td>\n",
       "      <td>0.673088</td>\n",
       "      <td>0.181002</td>\n",
       "      <td>0.000100</td>\n",
       "      <td>0.703913</td>\n",
       "      <td>0.168052</td>\n",
       "    </tr>\n",
       "    <tr>\n",
       "      <th>9</th>\n",
       "      <td>9</td>\n",
       "      <td>0.689180</td>\n",
       "      <td>0.172410</td>\n",
       "      <td>0.000100</td>\n",
       "      <td>0.709522</td>\n",
       "      <td>0.158530</td>\n",
       "    </tr>\n",
       "    <tr>\n",
       "      <th>10</th>\n",
       "      <td>10</td>\n",
       "      <td>0.699096</td>\n",
       "      <td>0.168603</td>\n",
       "      <td>0.000100</td>\n",
       "      <td>0.712835</td>\n",
       "      <td>0.166579</td>\n",
       "    </tr>\n",
       "    <tr>\n",
       "      <th>11</th>\n",
       "      <td>11</td>\n",
       "      <td>0.712152</td>\n",
       "      <td>0.160964</td>\n",
       "      <td>0.000100</td>\n",
       "      <td>0.688353</td>\n",
       "      <td>0.183993</td>\n",
       "    </tr>\n",
       "    <tr>\n",
       "      <th>12</th>\n",
       "      <td>12</td>\n",
       "      <td>0.725952</td>\n",
       "      <td>0.153350</td>\n",
       "      <td>0.000100</td>\n",
       "      <td>0.734768</td>\n",
       "      <td>0.155723</td>\n",
       "    </tr>\n",
       "    <tr>\n",
       "      <th>13</th>\n",
       "      <td>13</td>\n",
       "      <td>0.730268</td>\n",
       "      <td>0.151985</td>\n",
       "      <td>0.000100</td>\n",
       "      <td>0.731843</td>\n",
       "      <td>0.157789</td>\n",
       "    </tr>\n",
       "    <tr>\n",
       "      <th>14</th>\n",
       "      <td>14</td>\n",
       "      <td>0.739705</td>\n",
       "      <td>0.147246</td>\n",
       "      <td>0.000100</td>\n",
       "      <td>0.737092</td>\n",
       "      <td>0.156639</td>\n",
       "    </tr>\n",
       "    <tr>\n",
       "      <th>15</th>\n",
       "      <td>15</td>\n",
       "      <td>0.750242</td>\n",
       "      <td>0.140915</td>\n",
       "      <td>0.000100</td>\n",
       "      <td>0.739907</td>\n",
       "      <td>0.160223</td>\n",
       "    </tr>\n",
       "    <tr>\n",
       "      <th>16</th>\n",
       "      <td>16</td>\n",
       "      <td>0.754649</td>\n",
       "      <td>0.138940</td>\n",
       "      <td>0.000100</td>\n",
       "      <td>0.745668</td>\n",
       "      <td>0.155636</td>\n",
       "    </tr>\n",
       "    <tr>\n",
       "      <th>17</th>\n",
       "      <td>17</td>\n",
       "      <td>0.759988</td>\n",
       "      <td>0.135782</td>\n",
       "      <td>0.000100</td>\n",
       "      <td>0.746813</td>\n",
       "      <td>0.159363</td>\n",
       "    </tr>\n",
       "    <tr>\n",
       "      <th>18</th>\n",
       "      <td>18</td>\n",
       "      <td>0.779582</td>\n",
       "      <td>0.120900</td>\n",
       "      <td>0.000010</td>\n",
       "      <td>0.764913</td>\n",
       "      <td>0.148544</td>\n",
       "    </tr>\n",
       "    <tr>\n",
       "      <th>19</th>\n",
       "      <td>19</td>\n",
       "      <td>0.786329</td>\n",
       "      <td>0.116782</td>\n",
       "      <td>0.000010</td>\n",
       "      <td>0.760348</td>\n",
       "      <td>0.152180</td>\n",
       "    </tr>\n",
       "    <tr>\n",
       "      <th>20</th>\n",
       "      <td>20</td>\n",
       "      <td>0.789158</td>\n",
       "      <td>0.114994</td>\n",
       "      <td>0.000010</td>\n",
       "      <td>0.762195</td>\n",
       "      <td>0.151855</td>\n",
       "    </tr>\n",
       "    <tr>\n",
       "      <th>21</th>\n",
       "      <td>21</td>\n",
       "      <td>0.791265</td>\n",
       "      <td>0.113732</td>\n",
       "      <td>0.000010</td>\n",
       "      <td>0.762827</td>\n",
       "      <td>0.152076</td>\n",
       "    </tr>\n",
       "    <tr>\n",
       "      <th>22</th>\n",
       "      <td>22</td>\n",
       "      <td>0.793710</td>\n",
       "      <td>0.112403</td>\n",
       "      <td>0.000010</td>\n",
       "      <td>0.764903</td>\n",
       "      <td>0.151135</td>\n",
       "    </tr>\n",
       "    <tr>\n",
       "      <th>23</th>\n",
       "      <td>23</td>\n",
       "      <td>0.795348</td>\n",
       "      <td>0.111213</td>\n",
       "      <td>0.000010</td>\n",
       "      <td>0.765886</td>\n",
       "      <td>0.151892</td>\n",
       "    </tr>\n",
       "    <tr>\n",
       "      <th>24</th>\n",
       "      <td>24</td>\n",
       "      <td>0.798068</td>\n",
       "      <td>0.109403</td>\n",
       "      <td>0.000001</td>\n",
       "      <td>0.765711</td>\n",
       "      <td>0.152090</td>\n",
       "    </tr>\n",
       "  </tbody>\n",
       "</table>\n",
       "</div>"
      ],
      "text/plain": [
       "    epoch  dice_coefficient      loss        lr  val_dice_coefficient  \\\n",
       "0       0          0.192408  0.613403  0.000100              0.318959   \n",
       "1       1          0.371622  0.340637  0.000100              0.467380   \n",
       "2       2          0.494567  0.255626  0.000100              0.534678   \n",
       "3       3          0.550926  0.232308  0.000100              0.600751   \n",
       "4       4          0.588279  0.217778  0.000100              0.583138   \n",
       "5       5          0.615223  0.205359  0.000100              0.661637   \n",
       "6       6          0.642385  0.191862  0.000100              0.672213   \n",
       "7       7          0.660951  0.184149  0.000100              0.666244   \n",
       "8       8          0.673088  0.181002  0.000100              0.703913   \n",
       "9       9          0.689180  0.172410  0.000100              0.709522   \n",
       "10     10          0.699096  0.168603  0.000100              0.712835   \n",
       "11     11          0.712152  0.160964  0.000100              0.688353   \n",
       "12     12          0.725952  0.153350  0.000100              0.734768   \n",
       "13     13          0.730268  0.151985  0.000100              0.731843   \n",
       "14     14          0.739705  0.147246  0.000100              0.737092   \n",
       "15     15          0.750242  0.140915  0.000100              0.739907   \n",
       "16     16          0.754649  0.138940  0.000100              0.745668   \n",
       "17     17          0.759988  0.135782  0.000100              0.746813   \n",
       "18     18          0.779582  0.120900  0.000010              0.764913   \n",
       "19     19          0.786329  0.116782  0.000010              0.760348   \n",
       "20     20          0.789158  0.114994  0.000010              0.762195   \n",
       "21     21          0.791265  0.113732  0.000010              0.762827   \n",
       "22     22          0.793710  0.112403  0.000010              0.764903   \n",
       "23     23          0.795348  0.111213  0.000010              0.765886   \n",
       "24     24          0.798068  0.109403  0.000001              0.765711   \n",
       "\n",
       "    val_loss  \n",
       "0   0.408266  \n",
       "1   0.290354  \n",
       "2   0.248084  \n",
       "3   0.198834  \n",
       "4   0.226542  \n",
       "5   0.169609  \n",
       "6   0.176934  \n",
       "7   0.179794  \n",
       "8   0.168052  \n",
       "9   0.158530  \n",
       "10  0.166579  \n",
       "11  0.183993  \n",
       "12  0.155723  \n",
       "13  0.157789  \n",
       "14  0.156639  \n",
       "15  0.160223  \n",
       "16  0.155636  \n",
       "17  0.159363  \n",
       "18  0.148544  \n",
       "19  0.152180  \n",
       "20  0.151855  \n",
       "21  0.152076  \n",
       "22  0.151135  \n",
       "23  0.151892  \n",
       "24  0.152090  "
      ]
     },
     "execution_count": 28,
     "metadata": {},
     "output_type": "execute_result"
    }
   ],
   "source": [
    "LN_Norm_30"
   ]
  },
  {
   "cell_type": "code",
   "execution_count": 29,
   "metadata": {},
   "outputs": [
    {
     "data": {
      "image/png": "[encoded data removed]",
      "text/plain": [
       "<Figure size 720x360 with 1 Axes>"
      ]
     },
     "metadata": {
      "needs_background": "light"
     },
     "output_type": "display_data"
    }
   ],
   "source": [
    "# \"Train Accuracy\"\n",
    "fig = plt.figure(figsize=(10,5))\n",
    "plt.ylim(0,1)\n",
    "plt.plot(LN_Norm_30['dice_coefficient'])\n",
    "plt.plot(LN_Norm_30['val_dice_coefficient'])\n",
    "plt.ylabel('LN_Dice Coefficient')\n",
    "plt.xlabel('Epochs')\n",
    "plt.legend(['Tarin','Val'], loc='best')\n",
    "plt.show()"
   ]
  },
  {
   "cell_type": "code",
   "execution_count": 30,
   "metadata": {},
   "outputs": [
    {
     "data": {
      "image/png": "[encoded data removed]",
      "text/plain": [
       "<Figure size 720x360 with 1 Axes>"
      ]
     },
     "metadata": {
      "needs_background": "light"
     },
     "output_type": "display_data"
    }
   ],
   "source": [
    "# \"Train Loss\"\n",
    "fig = plt.figure(figsize=(10,5))\n",
    "plt.ylim(0,1)\n",
    "plt.plot(LN_Norm_30['loss'])\n",
    "plt.plot(LN_Norm_30['val_loss'])\n",
    "plt.ylabel('LN_Loss')\n",
    "plt.xlabel('Epochs')\n",
    "plt.legend(['Train', 'Val'], loc='best')\n",
    "plt.show()"
   ]
  },
  {
   "cell_type": "code",
   "execution_count": null,
   "metadata": {},
   "outputs": [],
   "source": []
  }
 ],
 "metadata": {
  "colab": {
   "collapsed_sections": [],
   "name": "Copy of ThesisExperimentResults.ipynb",
   "provenance": []
  },
  "kernelspec": {
   "display_name": "Python 3",
   "language": "python",
   "name": "python3"
  },
  "language_info": {
   "codemirror_mode": {
    "name": "ipython",
    "version": 3
   },
   "file_extension": ".py",
   "mimetype": "text/x-python",
   "name": "python",
   "nbconvert_exporter": "python",
   "pygments_lexer": "ipython3",
   "version": "3.6.13"
  }
 },
 "nbformat": 4,
 "nbformat_minor": 1
}
